{
 "cells": [
  {
   "cell_type": "code",
   "id": "initial_id",
   "metadata": {
    "collapsed": true,
    "ExecuteTime": {
     "end_time": "2025-10-27T04:49:57.917098Z",
     "start_time": "2025-10-27T04:49:53.769162Z"
    }
   },
   "source": [
    "import torch\n",
    "import torch.nn as nn\n",
    "import math\n",
    "import torch.nn.functional as F\n",
    "device=\"mps\""
   ],
   "outputs": [],
   "execution_count": 1
  },
  {
   "metadata": {
    "ExecuteTime": {
     "end_time": "2025-10-27T04:56:26.248445Z",
     "start_time": "2025-10-27T04:56:26.235494Z"
    }
   },
   "cell_type": "code",
   "source": [
    "def calculate_attention(\n",
    "        query:torch.Tensor,\n",
    "        key:torch.Tensor,\n",
    "        value:torch.Tensor,\n",
    "):\n",
    "    attention_scores=torch.matmul(query,key.transpose(-2,-1))\n",
    "    attention_scores=attention_scores/math.sqrt(key.shape[-1])\n",
    "    attention_scores=F.softmax(attention_scores,dim=-1)\n",
    "    attention=torch.matmul(attention_scores,value)\n",
    "    return attention,attention_scores"
   ],
   "id": "126930de3ed3f24f",
   "outputs": [],
   "execution_count": 2
  },
  {
   "metadata": {
    "ExecuteTime": {
     "end_time": "2025-10-27T05:01:02.258388Z",
     "start_time": "2025-10-27T05:01:02.221479Z"
    }
   },
   "cell_type": "code",
   "source": [
    "batch_size=2\n",
    "num_queries=4\n",
    "num_keys=16\n",
    "embed_size=8\n",
    "query=torch.randn(batch_size,num_queries,embed_size)\n",
    "keys=torch.randn(batch_size,num_keys,embed_size)\n",
    "value=torch.randn(batch_size,num_keys,embed_size)\n"
   ],
   "id": "62cb09d15b30353e",
   "outputs": [],
   "execution_count": 3
  },
  {
   "metadata": {
    "ExecuteTime": {
     "end_time": "2025-10-27T05:01:22.003290Z",
     "start_time": "2025-10-27T05:01:21.993594Z"
    }
   },
   "cell_type": "code",
   "source": "query.shape\n",
   "id": "ae3eff43ebc87167",
   "outputs": [
    {
     "data": {
      "text/plain": [
       "torch.Size([2, 4, 8])"
      ]
     },
     "execution_count": 4,
     "metadata": {},
     "output_type": "execute_result"
    }
   ],
   "execution_count": 4
  },
  {
   "metadata": {
    "ExecuteTime": {
     "end_time": "2025-10-27T05:01:34.734918Z",
     "start_time": "2025-10-27T05:01:34.683189Z"
    }
   },
   "cell_type": "code",
   "source": "query\n",
   "id": "353d129cfd21e90f",
   "outputs": [
    {
     "data": {
      "text/plain": [
       "tensor([[[ 8.2355e-02, -9.0994e-01, -1.0084e+00, -1.6941e+00, -6.4022e-01,\n",
       "           3.4664e-01, -1.9269e+00, -2.7803e-01],\n",
       "         [ 2.2504e-01,  1.2899e+00, -1.8094e+00,  2.8041e-01, -2.3472e-01,\n",
       "          -6.6442e-01, -2.2193e-01,  3.9833e-01],\n",
       "         [-2.9465e-01,  6.4270e-01, -1.8070e+00, -1.3021e-01, -3.4097e-01,\n",
       "           1.4162e+00,  2.8721e-01, -2.8228e-02],\n",
       "         [-1.1559e+00, -1.6789e+00,  1.9322e+00,  5.4015e-02, -1.1656e-01,\n",
       "          -1.2037e-01, -1.2872e-01, -8.1735e-03]],\n",
       "\n",
       "        [[-3.5681e-01, -2.3552e-01,  1.7536e+00, -1.9116e+00,  1.3666e+00,\n",
       "          -1.6470e+00,  1.9247e-01,  1.2102e+00],\n",
       "         [-1.1653e+00,  1.9983e+00, -4.5601e-01,  7.4543e-01, -8.0717e-01,\n",
       "           6.5167e-01, -9.2001e-01,  1.0739e+00],\n",
       "         [-3.1597e-02, -8.4615e-01, -2.8452e-01,  6.0574e-01,  6.9423e-01,\n",
       "           8.2001e-01,  1.3151e+00,  8.3859e-01],\n",
       "         [ 3.6834e-01,  1.2041e+00,  1.4952e-03,  3.7204e-01, -1.0653e+00,\n",
       "          -5.1867e-01, -1.0929e+00,  1.5713e+00]]])"
      ]
     },
     "execution_count": 5,
     "metadata": {},
     "output_type": "execute_result"
    }
   ],
   "execution_count": 5
  },
  {
   "metadata": {
    "ExecuteTime": {
     "end_time": "2025-10-27T05:03:54.570266Z",
     "start_time": "2025-10-27T05:03:54.561102Z"
    }
   },
   "cell_type": "code",
   "source": "keys.shape\n",
   "id": "c9a40473fc157c7f",
   "outputs": [
    {
     "data": {
      "text/plain": [
       "torch.Size([2, 16, 8])"
      ]
     },
     "execution_count": 8,
     "metadata": {},
     "output_type": "execute_result"
    }
   ],
   "execution_count": 8
  },
  {
   "metadata": {
    "ExecuteTime": {
     "end_time": "2025-10-27T05:35:51.855675Z",
     "start_time": "2025-10-27T05:35:51.835354Z"
    }
   },
   "cell_type": "code",
   "source": [
    "attention,attention_scores=calculate_attention(query,keys,value)\n",
    "attention.shape,attention_scores.shape"
   ],
   "id": "9657b8e41f56a2b0",
   "outputs": [
    {
     "data": {
      "text/plain": [
       "(torch.Size([2, 4, 8]), torch.Size([2, 4, 16]))"
      ]
     },
     "execution_count": 13,
     "metadata": {},
     "output_type": "execute_result"
    }
   ],
   "execution_count": 13
  },
  {
   "metadata": {
    "ExecuteTime": {
     "end_time": "2025-10-27T05:36:38.745054Z",
     "start_time": "2025-10-27T05:36:38.738567Z"
    }
   },
   "cell_type": "code",
   "source": [
    "text='attention ! we will train attention .'\n",
    "text_tokens=text.split()\n",
    "vocab=set(text_tokens)\n",
    "vocab_to_idx={token: idx for idx,token in enumerate(vocab)}\n",
    "print(vocab_to_idx)\n"
   ],
   "id": "8873a077ced0e934",
   "outputs": [
    {
     "name": "stdout",
     "output_type": "stream",
     "text": [
      "{'!': 0, 'we': 1, 'train': 2, 'attention': 3, '.': 4, 'will': 5}\n"
     ]
    }
   ],
   "execution_count": 14
  },
  {
   "metadata": {
    "ExecuteTime": {
     "end_time": "2025-10-27T05:36:40.586592Z",
     "start_time": "2025-10-27T05:36:40.579746Z"
    }
   },
   "cell_type": "code",
   "source": [
    "int_tokens=torch.tensor([vocab_to_idx[token] for token in text_tokens])\n",
    "int_tokens=int_tokens.unsqueeze(0)\n",
    "print(int_tokens,\"\\nshape:\",int_tokens.shape)"
   ],
   "id": "f9ec93e2754fb036",
   "outputs": [
    {
     "name": "stdout",
     "output_type": "stream",
     "text": [
      "tensor([[3, 0, 1, 5, 2, 3, 4]]) \n",
      "shape: torch.Size([1, 7])\n"
     ]
    }
   ],
   "execution_count": 15
  },
  {
   "metadata": {
    "ExecuteTime": {
     "end_time": "2025-10-27T05:38:50.576698Z",
     "start_time": "2025-10-27T05:38:50.554843Z"
    }
   },
   "cell_type": "code",
   "source": "embedding_layer=nn.Embedding(num_embeddings=len(vocab),embedding_dim=8)\n",
   "id": "a98c41e9e61820b1",
   "outputs": [],
   "execution_count": 16
  },
  {
   "metadata": {
    "ExecuteTime": {
     "end_time": "2025-10-27T05:39:29.509292Z",
     "start_time": "2025-10-27T05:39:29.479047Z"
    }
   },
   "cell_type": "code",
   "source": "embedding_layer.weight\n",
   "id": "f1874dfbdefbe444",
   "outputs": [
    {
     "data": {
      "text/plain": [
       "Parameter containing:\n",
       "tensor([[ 1.5885e+00, -1.2211e+00,  5.7886e-01,  3.7819e-01, -9.1898e-01,\n",
       "         -1.7496e-01,  5.4185e-01, -4.0746e-01],\n",
       "        [ 4.4848e-01,  2.8228e-04,  1.1137e+00, -3.7905e-01,  4.7805e-01,\n",
       "          1.2945e+00, -1.9192e+00, -1.6568e+00],\n",
       "        [ 1.5679e-01, -1.0564e+00,  7.3530e-01,  8.3025e-01, -9.4689e-01,\n",
       "         -1.7919e+00,  2.1915e-01,  6.8174e-01],\n",
       "        [ 8.1251e-01,  3.2273e-01,  4.1815e-01,  7.7991e-01, -2.0580e-01,\n",
       "         -3.6966e-01,  5.4677e-01,  5.3566e-01],\n",
       "        [-2.3744e-01,  1.0902e-02,  4.6608e-01, -6.6422e-01,  1.6636e+00,\n",
       "          1.3373e+00, -1.0628e+00,  1.2497e+00],\n",
       "        [ 1.5756e+00,  1.4329e+00,  1.5827e+00,  8.6508e-01,  2.2641e-03,\n",
       "         -3.7737e-02,  1.4275e-01, -9.2139e-01]], requires_grad=True)"
      ]
     },
     "execution_count": 17,
     "metadata": {},
     "output_type": "execute_result"
    }
   ],
   "execution_count": 17
  },
  {
   "metadata": {
    "ExecuteTime": {
     "end_time": "2025-10-27T05:42:48.932535Z",
     "start_time": "2025-10-27T05:42:48.926639Z"
    }
   },
   "cell_type": "code",
   "source": "embedding_layer.weight.shape",
   "id": "36753ca821d19960",
   "outputs": [
    {
     "data": {
      "text/plain": [
       "torch.Size([6, 8])"
      ]
     },
     "execution_count": 21,
     "metadata": {},
     "output_type": "execute_result"
    }
   ],
   "execution_count": 21
  },
  {
   "metadata": {
    "ExecuteTime": {
     "end_time": "2025-10-27T05:41:52.123747Z",
     "start_time": "2025-10-27T05:41:52.105686Z"
    }
   },
   "cell_type": "code",
   "source": [
    "embeddings=embedding_layer(int_tokens)\n",
    "embeddings"
   ],
   "id": "9dcb0f6af042776c",
   "outputs": [
    {
     "data": {
      "text/plain": [
       "tensor([[[ 8.1251e-01,  3.2273e-01,  4.1815e-01,  7.7991e-01, -2.0580e-01,\n",
       "          -3.6966e-01,  5.4677e-01,  5.3566e-01],\n",
       "         [ 1.5885e+00, -1.2211e+00,  5.7886e-01,  3.7819e-01, -9.1898e-01,\n",
       "          -1.7496e-01,  5.4185e-01, -4.0746e-01],\n",
       "         [ 4.4848e-01,  2.8228e-04,  1.1137e+00, -3.7905e-01,  4.7805e-01,\n",
       "           1.2945e+00, -1.9192e+00, -1.6568e+00],\n",
       "         [ 1.5756e+00,  1.4329e+00,  1.5827e+00,  8.6508e-01,  2.2641e-03,\n",
       "          -3.7737e-02,  1.4275e-01, -9.2139e-01],\n",
       "         [ 1.5679e-01, -1.0564e+00,  7.3530e-01,  8.3025e-01, -9.4689e-01,\n",
       "          -1.7919e+00,  2.1915e-01,  6.8174e-01],\n",
       "         [ 8.1251e-01,  3.2273e-01,  4.1815e-01,  7.7991e-01, -2.0580e-01,\n",
       "          -3.6966e-01,  5.4677e-01,  5.3566e-01],\n",
       "         [-2.3744e-01,  1.0902e-02,  4.6608e-01, -6.6422e-01,  1.6636e+00,\n",
       "           1.3373e+00, -1.0628e+00,  1.2497e+00]]],\n",
       "       grad_fn=<EmbeddingBackward0>)"
      ]
     },
     "execution_count": 18,
     "metadata": {},
     "output_type": "execute_result"
    }
   ],
   "execution_count": 18
  },
  {
   "metadata": {
    "ExecuteTime": {
     "end_time": "2025-10-27T05:42:04.554291Z",
     "start_time": "2025-10-27T05:42:04.549019Z"
    }
   },
   "cell_type": "code",
   "source": "embeddings.shape\n",
   "id": "c9ef11c3c4e5d869",
   "outputs": [
    {
     "data": {
      "text/plain": [
       "torch.Size([1, 7, 8])"
      ]
     },
     "execution_count": 19,
     "metadata": {},
     "output_type": "execute_result"
    }
   ],
   "execution_count": 19
  },
  {
   "metadata": {
    "ExecuteTime": {
     "end_time": "2025-10-27T05:49:07.503334Z",
     "start_time": "2025-10-27T05:49:07.472269Z"
    }
   },
   "cell_type": "code",
   "source": [
    "embedding_dim=8\n",
    "embedding_layer=nn.Embedding(num_embeddings=len(vocab),embedding_dim=embedding_dim)\n",
    "query_dense_layer=nn.Linear(in_features=embedding_dim,out_features=8)\n",
    "key_dense_layer=nn.Linear(in_features=embedding_dim,out_features=8)\n",
    "value_dense_layer=nn.Linear(in_features=embedding_dim,out_features=8)"
   ],
   "id": "1c9907154ed1d068",
   "outputs": [],
   "execution_count": 22
  },
  {
   "metadata": {
    "ExecuteTime": {
     "end_time": "2025-10-27T05:49:51.959441Z",
     "start_time": "2025-10-27T05:49:51.918990Z"
    }
   },
   "cell_type": "code",
   "source": [
    "embeddings=embedding_layer(int_tokens)\n",
    "embeddings"
   ],
   "id": "1185f17c03601de0",
   "outputs": [
    {
     "data": {
      "text/plain": [
       "tensor([[[ 0.3041,  2.2403,  1.8302, -0.6226, -1.1173, -1.7150, -0.4159,\n",
       "          -0.4360],\n",
       "         [-0.0413,  0.1477, -1.5658, -0.0085,  0.7859, -1.3566,  0.1088,\n",
       "           1.2149],\n",
       "         [-1.8079,  0.8667,  0.2132,  1.0926,  0.2734, -1.0515, -0.1971,\n",
       "          -0.4932],\n",
       "         [ 1.6140,  0.5343, -0.1385,  1.3212, -0.2533,  0.1117,  0.8089,\n",
       "           1.5170],\n",
       "         [-0.1078,  0.0337, -0.8248, -0.0400,  0.9999,  0.4553,  0.3001,\n",
       "           0.6170],\n",
       "         [ 0.3041,  2.2403,  1.8302, -0.6226, -1.1173, -1.7150, -0.4159,\n",
       "          -0.4360],\n",
       "         [ 0.4470,  0.8136,  0.1836, -0.8535,  1.7319, -0.4128,  0.8730,\n",
       "          -0.7801]]], grad_fn=<EmbeddingBackward0>)"
      ]
     },
     "execution_count": 23,
     "metadata": {},
     "output_type": "execute_result"
    }
   ],
   "execution_count": 23
  },
  {
   "metadata": {
    "ExecuteTime": {
     "end_time": "2025-10-27T05:50:12.055372Z",
     "start_time": "2025-10-27T05:50:12.043706Z"
    }
   },
   "cell_type": "code",
   "source": "embeddings.shape\n",
   "id": "84e4128b18ebe561",
   "outputs": [
    {
     "data": {
      "text/plain": [
       "torch.Size([1, 7, 8])"
      ]
     },
     "execution_count": 24,
     "metadata": {},
     "output_type": "execute_result"
    }
   ],
   "execution_count": 24
  },
  {
   "metadata": {
    "ExecuteTime": {
     "end_time": "2025-10-27T05:57:26.365014Z",
     "start_time": "2025-10-27T05:57:26.332393Z"
    }
   },
   "cell_type": "code",
   "source": [
    "query=query_dense_layer(embeddings)\n",
    "key=key_dense_layer(embeddings)\n",
    "value=value_dense_layer(embeddings)"
   ],
   "id": "c288a22c16479784",
   "outputs": [],
   "execution_count": 25
  },
  {
   "metadata": {
    "ExecuteTime": {
     "end_time": "2025-10-27T05:57:45.027660Z",
     "start_time": "2025-10-27T05:57:45.014974Z"
    }
   },
   "cell_type": "code",
   "source": "query.shape,key.shape,value.shape\n",
   "id": "f482b0cef5a8c4ec",
   "outputs": [
    {
     "data": {
      "text/plain": [
       "(torch.Size([1, 7, 8]), torch.Size([1, 7, 8]), torch.Size([1, 7, 8]))"
      ]
     },
     "execution_count": 26,
     "metadata": {},
     "output_type": "execute_result"
    }
   ],
   "execution_count": 26
  },
  {
   "metadata": {
    "ExecuteTime": {
     "end_time": "2025-10-27T05:59:13.052127Z",
     "start_time": "2025-10-27T05:59:13.026625Z"
    }
   },
   "cell_type": "code",
   "source": [
    "attention,attention_scores=calculate_attention(query,key,value)\n",
    "attention.shape,attention_scores.shape"
   ],
   "id": "c0081c0b2bd2bf9f",
   "outputs": [
    {
     "data": {
      "text/plain": [
       "(torch.Size([1, 7, 8]), torch.Size([1, 7, 7]))"
      ]
     },
     "execution_count": 27,
     "metadata": {},
     "output_type": "execute_result"
    }
   ],
   "execution_count": 27
  },
  {
   "metadata": {
    "ExecuteTime": {
     "end_time": "2025-10-27T05:59:36.910318Z",
     "start_time": "2025-10-27T05:59:36.882472Z"
    }
   },
   "cell_type": "code",
   "source": "attention_scores\n",
   "id": "22ec84c6d316602",
   "outputs": [
    {
     "data": {
      "text/plain": [
       "tensor([[[0.1042, 0.1930, 0.1378, 0.1430, 0.1718, 0.1042, 0.1461],\n",
       "         [0.1486, 0.1129, 0.0992, 0.2332, 0.1338, 0.1486, 0.1236],\n",
       "         [0.1809, 0.0850, 0.1287, 0.1487, 0.1360, 0.1809, 0.1397],\n",
       "         [0.1588, 0.1405, 0.1473, 0.2149, 0.1051, 0.1588, 0.0745],\n",
       "         [0.1621, 0.1205, 0.1540, 0.1472, 0.1262, 0.1621, 0.1279],\n",
       "         [0.1042, 0.1930, 0.1378, 0.1430, 0.1718, 0.1042, 0.1461],\n",
       "         [0.1293, 0.1555, 0.2022, 0.1089, 0.1414, 0.1293, 0.1333]]],\n",
       "       grad_fn=<SoftmaxBackward0>)"
      ]
     },
     "execution_count": 28,
     "metadata": {},
     "output_type": "execute_result"
    }
   ],
   "execution_count": 28
  },
  {
   "metadata": {
    "ExecuteTime": {
     "end_time": "2025-10-27T06:01:57.129666Z",
     "start_time": "2025-10-27T06:01:57.114103Z"
    }
   },
   "cell_type": "code",
   "source": [
    "right_triangular_mask=torch.tril(torch.ones_like(attention_scores))\n",
    "right_triangular_mask"
   ],
   "id": "acf29b8a9c79677f",
   "outputs": [
    {
     "data": {
      "text/plain": [
       "tensor([[[1., 0., 0., 0., 0., 0., 0.],\n",
       "         [1., 1., 0., 0., 0., 0., 0.],\n",
       "         [1., 1., 1., 0., 0., 0., 0.],\n",
       "         [1., 1., 1., 1., 0., 0., 0.],\n",
       "         [1., 1., 1., 1., 1., 0., 0.],\n",
       "         [1., 1., 1., 1., 1., 1., 0.],\n",
       "         [1., 1., 1., 1., 1., 1., 1.]]])"
      ]
     },
     "execution_count": 29,
     "metadata": {},
     "output_type": "execute_result"
    }
   ],
   "execution_count": 29
  },
  {
   "metadata": {
    "ExecuteTime": {
     "end_time": "2025-10-27T07:12:00.850922Z",
     "start_time": "2025-10-27T07:12:00.835649Z"
    }
   },
   "cell_type": "code",
   "source": [
    "def calculate_masked_attention(\n",
    "    values: torch.Tensor,\n",
    "    keys: torch.Tensor,\n",
    "    query: torch.Tensor,\n",
    "    mask: torch.Tensor = None,\n",
    "):\n",
    "    attention_scores = torch.matmul(query, keys.transpose(-2, -1))\n",
    "    attention_scores = attention_scores / math.sqrt(keys.shape[-1])\n",
    "    if mask is not None:\n",
    "        attention_scores = torch.where(\n",
    "            mask == 0,\n",
    "            torch.full_like(attention_scores, -1e9),\n",
    "            attention_scores\n",
    "        )\n",
    "    attention_scores = F.softmax(attention_scores, dim=-1)\n",
    "    attention = torch.matmul(attention_scores, values)\n",
    "    return attention, attention_scores"
   ],
   "id": "eebe612c3f0aeb91",
   "outputs": [],
   "execution_count": 30
  },
  {
   "metadata": {
    "ExecuteTime": {
     "end_time": "2025-10-27T07:13:23.884092Z",
     "start_time": "2025-10-27T07:13:23.837917Z"
    }
   },
   "cell_type": "code",
   "source": "attention_context,attention_scores=calculate_masked_attention(query,key,value,right_triangular_mask)\n",
   "id": "a1134f47abd551a3",
   "outputs": [],
   "execution_count": 31
  },
  {
   "metadata": {
    "ExecuteTime": {
     "end_time": "2025-10-27T07:13:35.264007Z",
     "start_time": "2025-10-27T07:13:35.252804Z"
    }
   },
   "cell_type": "code",
   "source": "attention_context.shape\n",
   "id": "3549ee6cb3c1b153",
   "outputs": [
    {
     "data": {
      "text/plain": [
       "torch.Size([1, 7, 8])"
      ]
     },
     "execution_count": 32,
     "metadata": {},
     "output_type": "execute_result"
    }
   ],
   "execution_count": 32
  },
  {
   "metadata": {
    "ExecuteTime": {
     "end_time": "2025-10-27T07:13:55.634174Z",
     "start_time": "2025-10-27T07:13:55.629028Z"
    }
   },
   "cell_type": "code",
   "source": "attention_scores.shape\n",
   "id": "e73ee35a44cd552",
   "outputs": [
    {
     "data": {
      "text/plain": [
       "torch.Size([1, 7, 7])"
      ]
     },
     "execution_count": 33,
     "metadata": {},
     "output_type": "execute_result"
    }
   ],
   "execution_count": 33
  },
  {
   "metadata": {
    "ExecuteTime": {
     "end_time": "2025-10-27T07:14:14.947263Z",
     "start_time": "2025-10-27T07:14:14.915919Z"
    }
   },
   "cell_type": "code",
   "source": "attention_scores\n",
   "id": "b7af00311d6cf0a5",
   "outputs": [
    {
     "data": {
      "text/plain": [
       "tensor([[[1.0000, 0.0000, 0.0000, 0.0000, 0.0000, 0.0000, 0.0000],\n",
       "         [0.8257, 0.1743, 0.0000, 0.0000, 0.0000, 0.0000, 0.0000],\n",
       "         [0.3587, 0.3439, 0.2974, 0.0000, 0.0000, 0.0000, 0.0000],\n",
       "         [0.4028, 0.1402, 0.2340, 0.2230, 0.0000, 0.0000, 0.0000],\n",
       "         [0.2439, 0.1466, 0.2639, 0.1745, 0.1712, 0.0000, 0.0000],\n",
       "         [0.1223, 0.2282, 0.0931, 0.2697, 0.1644, 0.1223, 0.0000],\n",
       "         [0.1476, 0.1448, 0.2325, 0.1169, 0.1178, 0.1476, 0.0928]]],\n",
       "       grad_fn=<SoftmaxBackward0>)"
      ]
     },
     "execution_count": 34,
     "metadata": {},
     "output_type": "execute_result"
    }
   ],
   "execution_count": 34
  },
  {
   "metadata": {},
   "cell_type": "code",
   "outputs": [],
   "execution_count": null,
   "source": "",
   "id": "491b99c948084800"
  }
 ],
 "metadata": {
  "kernelspec": {
   "display_name": "Python 3",
   "language": "python",
   "name": "python3"
  },
  "language_info": {
   "codemirror_mode": {
    "name": "ipython",
    "version": 2
   },
   "file_extension": ".py",
   "mimetype": "text/x-python",
   "name": "python",
   "nbconvert_exporter": "python",
   "pygments_lexer": "ipython2",
   "version": "2.7.6"
  }
 },
 "nbformat": 4,
 "nbformat_minor": 5
}
