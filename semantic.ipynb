{
 "cells": [
  {
   "cell_type": "code",
   "id": "initial_id",
   "metadata": {
    "collapsed": true,
    "ExecuteTime": {
     "end_time": "2025-10-27T03:29:46.840562Z",
     "start_time": "2025-10-27T03:29:46.838007Z"
    }
   },
   "source": [
    "import numpy as np\n",
    "import matplotlib.pyplot as plt\n",
    "item1_embedding=np.array([1,2,-3,4])\n",
    "item2_embedding=np.array([2,-3,-2,4])\n"
   ],
   "outputs": [],
   "execution_count": 44
  },
  {
   "metadata": {
    "ExecuteTime": {
     "end_time": "2025-10-27T03:29:46.891728Z",
     "start_time": "2025-10-27T03:29:46.845280Z"
    }
   },
   "cell_type": "code",
   "source": [
    "def plot_embeddings(emb1,emb2):\n",
    "    plt.bar(np.arange(len(emb1)),emb1,width=0.25,alpha=0.8,label='Item 1')\n",
    "    plt.bar(np.arange(len(emb2))+0.25,emb2,width=0.25,alpha=0.8,label='Item 2')\n",
    "    plt.axhline(0,color='black',linewidth=0.1)\n",
    "    plt.legend()\n",
    "    plt.show()\n",
    "plot_embeddings(item1_embedding,item2_embedding)"
   ],
   "id": "3db3f08cc6fe535d",
   "outputs": [
    {
     "data": {
      "text/plain": [
       "<Figure size 640x480 with 1 Axes>"
      ],
      "image/png": "[encoded data removed]"
     },
     "metadata": {},
     "output_type": "display_data"
    }
   ],
   "execution_count": 45
  },
  {
   "metadata": {
    "ExecuteTime": {
     "end_time": "2025-10-27T03:29:46.953535Z",
     "start_time": "2025-10-27T03:29:46.951762Z"
    }
   },
   "cell_type": "code",
   "source": [
    "product=item1_embedding*item2_embedding\n",
    "print(product)"
   ],
   "id": "9d6c546c6578df7d",
   "outputs": [
    {
     "name": "stdout",
     "output_type": "stream",
     "text": [
      "[ 2 -6  6 16]\n"
     ]
    }
   ],
   "execution_count": 46
  },
  {
   "metadata": {
    "ExecuteTime": {
     "end_time": "2025-10-27T03:29:46.992676Z",
     "start_time": "2025-10-27T03:29:46.963934Z"
    }
   },
   "cell_type": "code",
   "source": [
    "plt.bar(np.arange(len(product)),product,width=0.25,alpha=0.8)\n",
    "plt.axhline(0,color='black',linewidth=0.1)\n",
    "plt.show()"
   ],
   "id": "174c662ab1f959c0",
   "outputs": [
    {
     "data": {
      "text/plain": [
       "<Figure size 640x480 with 1 Axes>"
      ],
      "image/png": "[encoded data removed]"
     },
     "metadata": {},
     "output_type": "display_data"
    }
   ],
   "execution_count": 47
  },
  {
   "metadata": {
    "ExecuteTime": {
     "end_time": "2025-10-27T03:29:46.998174Z",
     "start_time": "2025-10-27T03:29:46.996183Z"
    }
   },
   "cell_type": "code",
   "source": [
    "input_embeddings=np.array([\n",
    "    [1,2,-3,4],\n",
    "    [2,-3,-2,4],\n",
    "    [-1,-2,3,-4],\n",
    "])\n",
    "search_embeddings=np.array([\n",
    "    [1,2,-3,4]\n",
    "])\n",
    "products=input_embeddings*search_embeddings\n",
    "print(f\"{input_embeddings.shape}{search_embeddings.shape}{products.shape}\")"
   ],
   "id": "203638967b16f8f7",
   "outputs": [
    {
     "name": "stdout",
     "output_type": "stream",
     "text": [
      "(3, 4)(1, 4)(3, 4)\n"
     ]
    }
   ],
   "execution_count": 48
  },
  {
   "metadata": {
    "ExecuteTime": {
     "end_time": "2025-10-27T03:29:47.007299Z",
     "start_time": "2025-10-27T03:29:47.004715Z"
    }
   },
   "cell_type": "code",
   "source": "products\n",
   "id": "6352000f5fa940dd",
   "outputs": [
    {
     "data": {
      "text/plain": [
       "array([[  1,   4,   9,  16],\n",
       "       [  2,  -6,   6,  16],\n",
       "       [ -1,  -4,  -9, -16]])"
      ]
     },
     "execution_count": 49,
     "metadata": {},
     "output_type": "execute_result"
    }
   ],
   "execution_count": 49
  },
  {
   "metadata": {
    "ExecuteTime": {
     "end_time": "2025-10-27T03:29:47.016367Z",
     "start_time": "2025-10-27T03:29:47.013590Z"
    }
   },
   "cell_type": "code",
   "source": "products.sum(axis=1,keepdims=True)",
   "id": "7ca008f6e28cdf06",
   "outputs": [
    {
     "data": {
      "text/plain": [
       "array([[ 30],\n",
       "       [ 18],\n",
       "       [-30]])"
      ]
     },
     "execution_count": 50,
     "metadata": {},
     "output_type": "execute_result"
    }
   ],
   "execution_count": 50
  },
  {
   "metadata": {
    "ExecuteTime": {
     "end_time": "2025-10-27T03:29:47.022502Z",
     "start_time": "2025-10-27T03:29:47.019818Z"
    }
   },
   "cell_type": "code",
   "source": "np.matmul(input_embeddings,search_embeddings.T)",
   "id": "d66ecc848a047e6d",
   "outputs": [
    {
     "data": {
      "text/plain": [
       "array([[ 30],\n",
       "       [ 18],\n",
       "       [-30]])"
      ]
     },
     "execution_count": 51,
     "metadata": {},
     "output_type": "execute_result"
    }
   ],
   "execution_count": 51
  },
  {
   "metadata": {
    "ExecuteTime": {
     "end_time": "2025-10-27T03:30:32.303770Z",
     "start_time": "2025-10-27T03:30:32.296977Z"
    }
   },
   "cell_type": "code",
   "source": [
    "input_embeddings=np.array([\n",
    "    [1,2,-3,4],\n",
    "    [2,-3,-2,4],\n",
    "    [-1,-2,3,-4],\n",
    "])\n",
    "search_embeddings=np.array([\n",
    "    [1,2,-3,4],\n",
    "    [-1,-2,3,-4]\n",
    "])\n",
    "prod=np.matmul(input_embeddings,search_embeddings.T)\n",
    "prod"
   ],
   "id": "53425989b548afe0",
   "outputs": [
    {
     "data": {
      "text/plain": [
       "array([[ 30, -30],\n",
       "       [ 18, -18],\n",
       "       [-30,  30]])"
      ]
     },
     "execution_count": 63,
     "metadata": {},
     "output_type": "execute_result"
    }
   ],
   "execution_count": 63
  },
  {
   "metadata": {
    "ExecuteTime": {
     "end_time": "2025-10-27T03:30:34.081722Z",
     "start_time": "2025-10-27T03:30:34.074954Z"
    }
   },
   "cell_type": "code",
   "source": [
    "def softmax(x):\n",
    "    return np.exp(x)/np.sum(np.exp(x),axis=0,keepdims=True)\n",
    "attention_scores=softmax(prod)\n",
    "attention_scores"
   ],
   "id": "10f0c35a5ba070cb",
   "outputs": [
    {
     "data": {
      "text/plain": [
       "array([[9.99993856e-01, 8.75651076e-27],\n",
       "       [6.14417460e-06, 1.42516408e-21],\n",
       "       [8.75645696e-27, 1.00000000e+00]])"
      ]
     },
     "execution_count": 64,
     "metadata": {},
     "output_type": "execute_result"
    }
   ],
   "execution_count": 64
  },
  {
   "metadata": {
    "ExecuteTime": {
     "end_time": "2025-10-27T03:29:47.043457Z",
     "start_time": "2025-10-27T03:29:47.041693Z"
    }
   },
   "cell_type": "code",
   "source": "print(f\"{input_embeddings.shape}{search_embeddings.T.shape}\")",
   "id": "a84524018c7acc26",
   "outputs": [
    {
     "name": "stdout",
     "output_type": "stream",
     "text": [
      "(3, 4)(4, 2)\n"
     ]
    }
   ],
   "execution_count": 54
  },
  {
   "metadata": {
    "ExecuteTime": {
     "end_time": "2025-10-27T03:29:47.066645Z",
     "start_time": "2025-10-27T03:29:47.064840Z"
    }
   },
   "cell_type": "code",
   "source": [
    "num_items=10\n",
    "num_queries=3\n",
    "embed_size=4\n",
    "item_embeddings=np.random.randn(num_items,embed_size)\n",
    "search_embeddings=np.random.randn(num_queries,embed_size)\n",
    "product=np.matmul(item_embeddings,search_embeddings.T)\n"
   ],
   "id": "b2fd86aa53c456bd",
   "outputs": [],
   "execution_count": 55
  },
  {
   "metadata": {
    "ExecuteTime": {
     "end_time": "2025-10-27T03:29:47.078490Z",
     "start_time": "2025-10-27T03:29:47.075644Z"
    }
   },
   "cell_type": "code",
   "source": "item_embeddings",
   "id": "a661c2313fde7e73",
   "outputs": [
    {
     "data": {
      "text/plain": [
       "array([[ 0.63060016,  0.44016098,  1.1987364 , -1.18315909],\n",
       "       [ 0.06054286,  0.68348554,  0.98115614,  0.53027952],\n",
       "       [-0.12726704,  0.91160239,  0.4498638 ,  1.2253142 ],\n",
       "       [ 0.23960075,  0.49315954, -0.37504548,  0.63952053],\n",
       "       [-0.61841434,  0.30674592,  0.02078237,  1.60227711],\n",
       "       [ 0.91677124,  0.64530581, -1.07252043, -0.56652748],\n",
       "       [ 0.60546289,  0.15606074,  0.36478184, -0.50184557],\n",
       "       [-0.30412327,  1.30765368,  0.36532228,  1.08784067],\n",
       "       [-0.74502682, -1.05248804, -1.87213232,  1.82419132],\n",
       "       [ 1.01564714, -0.11310404, -1.02178095, -0.03396217]])"
      ]
     },
     "execution_count": 56,
     "metadata": {},
     "output_type": "execute_result"
    }
   ],
   "execution_count": 56
  },
  {
   "metadata": {
    "ExecuteTime": {
     "end_time": "2025-10-27T03:29:47.084578Z",
     "start_time": "2025-10-27T03:29:47.082752Z"
    }
   },
   "cell_type": "code",
   "source": "item_embeddings.shape",
   "id": "c1c3ebf21f98666",
   "outputs": [
    {
     "data": {
      "text/plain": [
       "(10, 4)"
      ]
     },
     "execution_count": 57,
     "metadata": {},
     "output_type": "execute_result"
    }
   ],
   "execution_count": 57
  },
  {
   "metadata": {
    "ExecuteTime": {
     "end_time": "2025-10-27T03:29:47.091061Z",
     "start_time": "2025-10-27T03:29:47.088817Z"
    }
   },
   "cell_type": "code",
   "source": "search_embeddings\n",
   "id": "56a77bac3800418d",
   "outputs": [
    {
     "data": {
      "text/plain": [
       "array([[-1.3093753 ,  0.7981655 , -0.10615341, -0.17960857],\n",
       "       [ 0.25985717, -0.76276726, -0.63664759,  0.5075539 ],\n",
       "       [-0.28892233,  0.97354716,  1.87749698, -0.22015698]])"
      ]
     },
     "execution_count": 58,
     "metadata": {},
     "output_type": "execute_result"
    }
   ],
   "execution_count": 58
  },
  {
   "metadata": {
    "ExecuteTime": {
     "end_time": "2025-10-27T03:29:47.097922Z",
     "start_time": "2025-10-27T03:29:47.095991Z"
    }
   },
   "cell_type": "code",
   "source": "search_embeddings.T.shape",
   "id": "451261b2ec9fdca1",
   "outputs": [
    {
     "data": {
      "text/plain": [
       "(4, 3)"
      ]
     },
     "execution_count": 59,
     "metadata": {},
     "output_type": "execute_result"
    }
   ],
   "execution_count": 59
  },
  {
   "metadata": {
    "ExecuteTime": {
     "end_time": "2025-10-27T03:29:47.104307Z",
     "start_time": "2025-10-27T03:29:47.101781Z"
    }
   },
   "cell_type": "code",
   "source": "product.shape\n",
   "id": "ce7c91b36e234765",
   "outputs": [
    {
     "data": {
      "text/plain": [
       "(10, 3)"
      ]
     },
     "execution_count": 60,
     "metadata": {},
     "output_type": "execute_result"
    }
   ],
   "execution_count": 60
  },
  {
   "metadata": {
    "ExecuteTime": {
     "end_time": "2025-10-27T03:29:47.110841Z",
     "start_time": "2025-10-27T03:29:47.108231Z"
    }
   },
   "cell_type": "code",
   "source": [
    "def softmax(x):\n",
    "    return np.exp(x)/np.sum(np.exp(x),axis=0,keepdims=True)\n",
    "attention_scores=softmax(product)\n",
    "attention_scores"
   ],
   "id": "fc3aa575abc847bd",
   "outputs": [
    {
     "data": {
      "text/plain": [
       "array([[5.29592026e-02, 8.85573705e-03, 3.80848244e-01],\n",
       "       [1.02054063e-01, 1.73834122e-02, 2.59370992e-01],\n",
       "       [1.46211714e-01, 2.77636100e-02, 1.08211531e-01],\n",
       "       [7.85300921e-02, 5.27776888e-02, 1.56570246e-02],\n",
       "       [1.67874877e-01, 6.16803492e-02, 2.84612908e-02],\n",
       "       [4.88573770e-02, 4.73665050e-02, 5.25617901e-03],\n",
       "       [4.21752833e-02, 2.62580934e-02, 5.23177463e-02],\n",
       "       [2.61492896e-01, 1.92926035e-02, 1.47274700e-01],\n",
       "       [7.86643605e-02, 6.28663659e-01, 2.14177575e-04],\n",
       "       [2.11801343e-02, 1.09958341e-01, 2.38811505e-03]])"
      ]
     },
     "execution_count": 61,
     "metadata": {},
     "output_type": "execute_result"
    }
   ],
   "execution_count": 61
  },
  {
   "metadata": {
    "ExecuteTime": {
     "end_time": "2025-10-27T03:29:47.116750Z",
     "start_time": "2025-10-27T03:29:47.115015Z"
    }
   },
   "cell_type": "code",
   "source": "attention_scores.shape\n",
   "id": "b0ded2c533f07f75",
   "outputs": [
    {
     "data": {
      "text/plain": [
       "(10, 3)"
      ]
     },
     "execution_count": 62,
     "metadata": {},
     "output_type": "execute_result"
    }
   ],
   "execution_count": 62
  },
  {
   "metadata": {
    "ExecuteTime": {
     "end_time": "2025-10-27T04:10:58.158624Z",
     "start_time": "2025-10-27T04:10:58.146732Z"
    }
   },
   "cell_type": "code",
   "source": "product=np.array([[1],[-0.5],[-1.2]])\n",
   "id": "fca61050de7e466a",
   "outputs": [],
   "execution_count": 65
  },
  {
   "metadata": {
    "ExecuteTime": {
     "end_time": "2025-10-27T04:11:05.638975Z",
     "start_time": "2025-10-27T04:11:05.629249Z"
    }
   },
   "cell_type": "code",
   "source": "product.shape\n",
   "id": "2929b62f5b075df7",
   "outputs": [
    {
     "data": {
      "text/plain": [
       "(3, 1)"
      ]
     },
     "execution_count": 66,
     "metadata": {},
     "output_type": "execute_result"
    }
   ],
   "execution_count": 66
  },
  {
   "metadata": {
    "ExecuteTime": {
     "end_time": "2025-10-27T04:11:22.069423Z",
     "start_time": "2025-10-27T04:11:22.052272Z"
    }
   },
   "cell_type": "code",
   "source": [
    "attention_scores=softmax(product)\n",
    "attention_scores"
   ],
   "id": "c1455641e7c70c0a",
   "outputs": [
    {
     "data": {
      "text/plain": [
       "array([[0.74966266],\n",
       "       [0.16727235],\n",
       "       [0.08306499]])"
      ]
     },
     "execution_count": 67,
     "metadata": {},
     "output_type": "execute_result"
    }
   ],
   "execution_count": 67
  },
  {
   "metadata": {
    "ExecuteTime": {
     "end_time": "2025-10-27T04:19:19.792468Z",
     "start_time": "2025-10-27T04:19:19.786404Z"
    }
   },
   "cell_type": "code",
   "source": [
    "num_items=4\n",
    "num_queries=1\n",
    "embed_size=1\n",
    "item_embeddings=np.random.uniform(-1,1,size=(num_items,embed_size))\n",
    "search_embeddings=np.random.uniform(-1,1,size=(num_queries,embed_size))\n",
    "prod=np.matmul(item_embeddings,search_embeddings.T)/np.sqrt(embed_size)\n",
    "attention_scores=softmax(prod)\n",
    "print(attention_scores.shape)\n",
    "attention_scores"
   ],
   "id": "550734bd92d8aa57",
   "outputs": [
    {
     "name": "stdout",
     "output_type": "stream",
     "text": [
      "(4, 1)\n"
     ]
    },
    {
     "data": {
      "text/plain": [
       "array([[0.25083026],\n",
       "       [0.27338778],\n",
       "       [0.18657194],\n",
       "       [0.28921002]])"
      ]
     },
     "execution_count": 69,
     "metadata": {},
     "output_type": "execute_result"
    }
   ],
   "execution_count": 69
  },
  {
   "metadata": {
    "ExecuteTime": {
     "end_time": "2025-10-27T04:45:04.750438Z",
     "start_time": "2025-10-27T04:45:04.730959Z"
    }
   },
   "cell_type": "code",
   "source": [
    "num_keys=3\n",
    "num_queries=1\n",
    "embed_size=4\n",
    "key_embeddings=np.random.uniform(-1,1,size=(num_keys,embed_size))\n",
    "query_embeddings=np.random.uniform(-1,1,size=(num_queries,embed_size))\n",
    "value_embeddings=np.random.uniform(-1,1,size=(num_queries,embed_size));\n"
   ],
   "id": "f16c232d59d98290",
   "outputs": [],
   "execution_count": 70
  },
  {
   "metadata": {},
   "cell_type": "code",
   "outputs": [],
   "execution_count": null,
   "source": "",
   "id": "39c223c1f8fdeb2b"
  }
 ],
 "metadata": {
  "kernelspec": {
   "display_name": "Python 3",
   "language": "python",
   "name": "python3"
  },
  "language_info": {
   "codemirror_mode": {
    "name": "ipython",
    "version": 2
   },
   "file_extension": ".py",
   "mimetype": "text/x-python",
   "name": "python",
   "nbconvert_exporter": "python",
   "pygments_lexer": "ipython2",
   "version": "2.7.6"
  }
 },
 "nbformat": 4,
 "nbformat_minor": 5
}
